{
 "cells": [
  {
   "cell_type": "markdown",
   "id": "3bf3292a",
   "metadata": {},
   "source": [
    "### Exercice:\n",
    "\n",
    "Scraping weather forecase from the The Weather Channel website `weather.com` using `requests` and `BeautifulSoup` libraries.\n",
    "\n",
    "1. Implement a scraping script for getting 10 days weather forecasts of Benguerir city and Tanger City.\n",
    "2. Store the data sets into Pandas DataFrame.\n",
    "3. Use matplotlib library to plot the raining days of the two cities in the same figure.  \n"
   ]
  },
  {
   "cell_type": "code",
   "execution_count": 1,
   "id": "e2008bdb",
   "metadata": {},
   "outputs": [],
   "source": [
    "import pandas as pd\n",
    "import requests\n",
    "from bs4 import BeautifulSoup\n",
    "import re\n",
    "import matplotlib.pyplot as plt\n",
    "import warnings\n",
    "import csv\n",
    "import pandas as pd\n",
    "warnings.filterwarnings('ignore')\n",
    "%matplotlib inline"
   ]
  },
  {
   "cell_type": "markdown",
   "id": "c71d7750",
   "metadata": {},
   "source": [
    "### Implementation of scraping function:"
   ]
  },
  {
   "cell_type": "code",
   "execution_count": 132,
   "id": "2015947d",
   "metadata": {},
   "outputs": [],
   "source": [
    "def weather_tracking(url, city):\n",
    "    source = requests.get(url).text\n",
    "    soup = BeautifulSoup(source, \"lxml\")\n",
    "    L =[]\n",
    "\n",
    "    for element in soup.find_all(\"div\", class_=\"DetailsSummary--DetailsSummary--1DqhO DetailsSummary--fadeOnOpen--KnNyF\"):\n",
    "\n",
    "        D = {}\n",
    "        D[\"temp_day\"] = element.find('h3').text\n",
    "        D[\"temp_max\"] = element.find('span', class_=\"DetailsSummary--highTempValue--3PjlX\").text\n",
    "        D[\"temp_min\"] = element.find('span', class_='DetailsSummary--lowTempValue--2tesQ').text\n",
    "        D[\"day_climate\"] = element.find('span', class_='DetailsSummary--extendedData--307Ax').text\n",
    "\n",
    "        L.append(D)\n",
    "    convert = pd.DataFrame(L)\n",
    "    filename=city+\"_weather.csv\"\n",
    "    convert.to_csv(filename)"
   ]
  },
  {
   "cell_type": "markdown",
   "id": "e30417ba",
   "metadata": {},
   "source": [
    "### Access to the website for Marrakech and recall function"
   ]
  },
  {
   "cell_type": "code",
   "execution_count": 95,
   "id": "b5356bd7",
   "metadata": {},
   "outputs": [
    {
     "name": "stdout",
     "output_type": "stream",
     "text": [
      "Ben Guerir, Marrakesh-Safi, Morocco\n"
     ]
    }
   ],
   "source": [
    "for city in soup.find(\"span\", class_=\"LocationPageTitle--PresentationName--1AMA6\"):\n",
    "    print(city)"
   ]
  },
  {
   "cell_type": "code",
   "execution_count": 133,
   "id": "9b591fac",
   "metadata": {},
   "outputs": [],
   "source": [
    "url_bengrir='https://weather.com/weather/tenday/l/f37580e42d804f6d54467e56dd9f296e15fe9a25db53ddee63601416ecc06111'\n",
    "city=\"bengrir\"\n",
    "weather_tracking(url, city)"
   ]
  },
  {
   "cell_type": "markdown",
   "id": "9043a428",
   "metadata": {},
   "source": [
    "### Link to the website for Tanger city and recall function"
   ]
  },
  {
   "cell_type": "code",
   "execution_count": 111,
   "id": "175938fb",
   "metadata": {},
   "outputs": [],
   "source": [
    "url_tanger = 'https://weather.com/weather/tenday/l/d85f06e72cf2831588a6321bed1d67ed17af1d3d7fe060cc7f2c5ccbfa35e911'\n",
    "city=\"tanger\"\n",
    "weather_tracking(url, city)"
   ]
  },
  {
   "cell_type": "markdown",
   "id": "8af07ae1",
   "metadata": {},
   "source": [
    "### Dataset Cleaning"
   ]
  },
  {
   "cell_type": "code",
   "execution_count": 202,
   "id": "3580c56d",
   "metadata": {},
   "outputs": [
    {
     "data": {
      "text/html": [
       "<div>\n",
       "<style scoped>\n",
       "    .dataframe tbody tr th:only-of-type {\n",
       "        vertical-align: middle;\n",
       "    }\n",
       "\n",
       "    .dataframe tbody tr th {\n",
       "        vertical-align: top;\n",
       "    }\n",
       "\n",
       "    .dataframe thead th {\n",
       "        text-align: right;\n",
       "    }\n",
       "</style>\n",
       "<table border=\"1\" class=\"dataframe\">\n",
       "  <thead>\n",
       "    <tr style=\"text-align: right;\">\n",
       "      <th></th>\n",
       "      <th>Unnamed: 0</th>\n",
       "      <th>temp_day</th>\n",
       "      <th>temp_max</th>\n",
       "      <th>temp_min</th>\n",
       "      <th>day_climate</th>\n",
       "    </tr>\n",
       "  </thead>\n",
       "  <tbody>\n",
       "    <tr>\n",
       "      <th>0</th>\n",
       "      <td>0</td>\n",
       "      <td>Tonight</td>\n",
       "      <td>--</td>\n",
       "      <td>47°</td>\n",
       "      <td>Clear</td>\n",
       "    </tr>\n",
       "    <tr>\n",
       "      <th>1</th>\n",
       "      <td>1</td>\n",
       "      <td>Sun 18</td>\n",
       "      <td>72°</td>\n",
       "      <td>47°</td>\n",
       "      <td>Partly Cloudy</td>\n",
       "    </tr>\n",
       "    <tr>\n",
       "      <th>2</th>\n",
       "      <td>2</td>\n",
       "      <td>Mon 19</td>\n",
       "      <td>73°</td>\n",
       "      <td>45°</td>\n",
       "      <td>Partly Cloudy</td>\n",
       "    </tr>\n",
       "    <tr>\n",
       "      <th>3</th>\n",
       "      <td>3</td>\n",
       "      <td>Tue 20</td>\n",
       "      <td>73°</td>\n",
       "      <td>45°</td>\n",
       "      <td>Partly Cloudy</td>\n",
       "    </tr>\n",
       "    <tr>\n",
       "      <th>4</th>\n",
       "      <td>4</td>\n",
       "      <td>Wed 21</td>\n",
       "      <td>71°</td>\n",
       "      <td>45°</td>\n",
       "      <td>Sunny</td>\n",
       "    </tr>\n",
       "  </tbody>\n",
       "</table>\n",
       "</div>"
      ],
      "text/plain": [
       "   Unnamed: 0 temp_day temp_max temp_min    day_climate\n",
       "0           0  Tonight       --      47°          Clear\n",
       "1           1   Sun 18      72°      47°  Partly Cloudy\n",
       "2           2   Mon 19      73°      45°  Partly Cloudy\n",
       "3           3   Tue 20      73°      45°  Partly Cloudy\n",
       "4           4   Wed 21      71°      45°          Sunny"
      ]
     },
     "execution_count": 202,
     "metadata": {},
     "output_type": "execute_result"
    }
   ],
   "source": [
    "# read csv file using pandas\n",
    "bengrir_climat = pd.read_csv(\"bengrir_weather.csv\")\n",
    "bengrir_climat.head()"
   ]
  },
  {
   "cell_type": "code",
   "execution_count": 203,
   "id": "f21efd3e",
   "metadata": {},
   "outputs": [
    {
     "data": {
      "text/html": [
       "<div>\n",
       "<style scoped>\n",
       "    .dataframe tbody tr th:only-of-type {\n",
       "        vertical-align: middle;\n",
       "    }\n",
       "\n",
       "    .dataframe tbody tr th {\n",
       "        vertical-align: top;\n",
       "    }\n",
       "\n",
       "    .dataframe thead th {\n",
       "        text-align: right;\n",
       "    }\n",
       "</style>\n",
       "<table border=\"1\" class=\"dataframe\">\n",
       "  <thead>\n",
       "    <tr style=\"text-align: right;\">\n",
       "      <th></th>\n",
       "      <th>Unnamed: 0</th>\n",
       "      <th>temp_day</th>\n",
       "      <th>temp_min</th>\n",
       "      <th>temp_maxt</th>\n",
       "      <th>day_climate</th>\n",
       "    </tr>\n",
       "  </thead>\n",
       "  <tbody>\n",
       "    <tr>\n",
       "      <th>0</th>\n",
       "      <td>0</td>\n",
       "      <td>Tonight</td>\n",
       "      <td>--</td>\n",
       "      <td>46°</td>\n",
       "      <td>Clear</td>\n",
       "    </tr>\n",
       "    <tr>\n",
       "      <th>1</th>\n",
       "      <td>1</td>\n",
       "      <td>Sun 18</td>\n",
       "      <td>72°</td>\n",
       "      <td>47°</td>\n",
       "      <td>Partly Cloudy</td>\n",
       "    </tr>\n",
       "    <tr>\n",
       "      <th>2</th>\n",
       "      <td>2</td>\n",
       "      <td>Mon 19</td>\n",
       "      <td>73°</td>\n",
       "      <td>45°</td>\n",
       "      <td>Partly Cloudy</td>\n",
       "    </tr>\n",
       "    <tr>\n",
       "      <th>3</th>\n",
       "      <td>3</td>\n",
       "      <td>Tue 20</td>\n",
       "      <td>73°</td>\n",
       "      <td>45°</td>\n",
       "      <td>Partly Cloudy</td>\n",
       "    </tr>\n",
       "    <tr>\n",
       "      <th>4</th>\n",
       "      <td>4</td>\n",
       "      <td>Wed 21</td>\n",
       "      <td>71°</td>\n",
       "      <td>45°</td>\n",
       "      <td>Sunny</td>\n",
       "    </tr>\n",
       "  </tbody>\n",
       "</table>\n",
       "</div>"
      ],
      "text/plain": [
       "   Unnamed: 0 temp_day temp_min temp_maxt    day_climate\n",
       "0           0  Tonight       --       46°          Clear\n",
       "1           1   Sun 18      72°       47°  Partly Cloudy\n",
       "2           2   Mon 19      73°       45°  Partly Cloudy\n",
       "3           3   Tue 20      73°       45°  Partly Cloudy\n",
       "4           4   Wed 21      71°       45°          Sunny"
      ]
     },
     "execution_count": 203,
     "metadata": {},
     "output_type": "execute_result"
    }
   ],
   "source": [
    "tanger_climat = pd.read_csv(\"tanger_weather.csv\")\n",
    "tanger_climat.head()"
   ]
  },
  {
   "cell_type": "markdown",
   "id": "c0cf9690",
   "metadata": {},
   "source": [
    "1) Drop the index variable"
   ]
  },
  {
   "cell_type": "code",
   "execution_count": 204,
   "id": "216acaa1",
   "metadata": {},
   "outputs": [],
   "source": [
    "bengrir_climat = bengrir_climat.drop(['Unnamed: 0'], axis=1)"
   ]
  },
  {
   "cell_type": "markdown",
   "id": "b80ec98d",
   "metadata": {},
   "source": [
    "2) Get the type of our columns:\n"
   ]
  },
  {
   "cell_type": "code",
   "execution_count": 205,
   "id": "4faa4735",
   "metadata": {},
   "outputs": [
    {
     "name": "stdout",
     "output_type": "stream",
     "text": [
      "temp_day       object\n",
      "temp_max       object\n",
      "temp_min       object\n",
      "day_climate    object\n",
      "dtype: object\n"
     ]
    }
   ],
   "source": [
    "print(bengrir_climat.dtypes)"
   ]
  },
  {
   "cell_type": "code",
   "execution_count": 206,
   "id": "c53615fe",
   "metadata": {},
   "outputs": [],
   "source": [
    "#transform the variable temp_min into a numerical variable\n",
    "bengrir_climat['temp_min'] = bengrir_climat['temp_min'].str.replace('°', '')\n",
    "tanger_climat['temp_min'] = tanger_climat['temp_min'].str.replace('°', '')"
   ]
  },
  {
   "cell_type": "code",
   "execution_count": 195,
   "id": "b6949f79",
   "metadata": {},
   "outputs": [],
   "source": [
    "bengrir_climat['temp_min']=bengrir_climat['temp_min'].astype(float)"
   ]
  },
  {
   "cell_type": "code",
   "execution_count": 207,
   "id": "a939a388",
   "metadata": {},
   "outputs": [
    {
     "data": {
      "text/plain": [
       "<AxesSubplot:>"
      ]
     },
     "execution_count": 207,
     "metadata": {},
     "output_type": "execute_result"
    },
    {
     "data": {
      "image/png": "[encoded data removed]",
      "text/plain": [
       "<Figure size 432x288 with 1 Axes>"
      ]
     },
     "metadata": {
      "needs_background": "light"
     },
     "output_type": "display_data"
    }
   ],
   "source": [
    "bengrir_climat['day_climate'].value_counts().plot(kind='bar')\n",
    "\n",
    "# We can use also the function countplot from seaborn library:\n",
    "#import seaborn as sns\n",
    "#sns.countplot(df['colour'], color='gray')"
   ]
  },
  {
   "cell_type": "code",
   "execution_count": 163,
   "id": "97ddd482",
   "metadata": {},
   "outputs": [
    {
     "data": {
      "text/plain": [
       "<seaborn.axisgrid.FacetGrid at 0x256bd5000a0>"
      ]
     },
     "execution_count": 163,
     "metadata": {},
     "output_type": "execute_result"
    },
    {
     "data": {
      "image/png": "[encoded data removed]",
      "text/plain": [
       "<Figure size 360x360 with 1 Axes>"
      ]
     },
     "metadata": {
      "needs_background": "light"
     },
     "output_type": "display_data"
    }
   ],
   "source": [
    "sns.catplot(data=bengrir_climat, x=\"day_climate\", y=\"temp_min\", hue=\"day_climate\", kind=\"bar\")"
   ]
  },
  {
   "cell_type": "markdown",
   "id": "abe52eb8",
   "metadata": {},
   "source": [
    "#### Use matplotlib library to plot the raining days of the two cities in the same figure."
   ]
  },
  {
   "cell_type": "markdown",
   "id": "f7dfd658",
   "metadata": {},
   "source": [
    ">I consider the raining day, the day when it is Partly Cloudy for both cities then I apply a conditionning selection from datatset as follow:"
   ]
  },
  {
   "cell_type": "code",
   "execution_count": 211,
   "id": "c636c95a",
   "metadata": {},
   "outputs": [
    {
     "data": {
      "text/html": [
       "<div>\n",
       "<style scoped>\n",
       "    .dataframe tbody tr th:only-of-type {\n",
       "        vertical-align: middle;\n",
       "    }\n",
       "\n",
       "    .dataframe tbody tr th {\n",
       "        vertical-align: top;\n",
       "    }\n",
       "\n",
       "    .dataframe thead th {\n",
       "        text-align: right;\n",
       "    }\n",
       "</style>\n",
       "<table border=\"1\" class=\"dataframe\">\n",
       "  <thead>\n",
       "    <tr style=\"text-align: right;\">\n",
       "      <th></th>\n",
       "      <th>temp_day</th>\n",
       "      <th>temp_max</th>\n",
       "      <th>temp_min</th>\n",
       "      <th>day_climate</th>\n",
       "    </tr>\n",
       "  </thead>\n",
       "  <tbody>\n",
       "    <tr>\n",
       "      <th>1</th>\n",
       "      <td>Sun 18</td>\n",
       "      <td>72°</td>\n",
       "      <td>47</td>\n",
       "      <td>Partly Cloudy</td>\n",
       "    </tr>\n",
       "    <tr>\n",
       "      <th>2</th>\n",
       "      <td>Mon 19</td>\n",
       "      <td>73°</td>\n",
       "      <td>45</td>\n",
       "      <td>Partly Cloudy</td>\n",
       "    </tr>\n",
       "    <tr>\n",
       "      <th>3</th>\n",
       "      <td>Tue 20</td>\n",
       "      <td>73°</td>\n",
       "      <td>45</td>\n",
       "      <td>Partly Cloudy</td>\n",
       "    </tr>\n",
       "    <tr>\n",
       "      <th>9</th>\n",
       "      <td>Mon 26</td>\n",
       "      <td>71°</td>\n",
       "      <td>49</td>\n",
       "      <td>Partly Cloudy</td>\n",
       "    </tr>\n",
       "    <tr>\n",
       "      <th>10</th>\n",
       "      <td>Tue 27</td>\n",
       "      <td>70°</td>\n",
       "      <td>47</td>\n",
       "      <td>Partly Cloudy</td>\n",
       "    </tr>\n",
       "  </tbody>\n",
       "</table>\n",
       "</div>"
      ],
      "text/plain": [
       "   temp_day temp_max temp_min    day_climate\n",
       "1    Sun 18      72°       47  Partly Cloudy\n",
       "2    Mon 19      73°       45  Partly Cloudy\n",
       "3    Tue 20      73°       45  Partly Cloudy\n",
       "9    Mon 26      71°       49  Partly Cloudy\n",
       "10   Tue 27      70°       47  Partly Cloudy"
      ]
     },
     "execution_count": 211,
     "metadata": {},
     "output_type": "execute_result"
    }
   ],
   "source": [
    "raining_days_bg = bengrir_climat.query('day_climate == \"Partly Cloudy\"')\n",
    "raining_days_tg = tanger_climat.query('day_climate == \"Partly Cloudy\"')\n",
    "raining_days_bg.head()"
   ]
  },
  {
   "cell_type": "code",
   "execution_count": 215,
   "id": "bc9c5196",
   "metadata": {},
   "outputs": [
    {
     "data": {
      "image/png": "[encoded data removed]",
      "text/plain": [
       "<Figure size 1152x648 with 1 Axes>"
      ]
     },
     "metadata": {
      "needs_background": "light"
     },
     "output_type": "display_data"
    }
   ],
   "source": [
    "#plot the average temperature for the next 10 days in benguerir and tanger\n",
    "plt.figure(figsize=(16,9))\n",
    "plt.plot(raining_days_bg['temp_day'],raining_days_bg['temp_min'],label='benguerir temp for raining days')\n",
    "plt.plot(raining_days_tg['temp_day'],raining_days_tg['temp_min'],label='tanger temp for raining days')\n",
    "plt.xlabel('day climate')\n",
    "plt.ylabel('minimum temperature')\n",
    "plt.title('minimum temperature for the raining(Partly Cloudy) days in benguerir and tanger')\n",
    "plt.legend()\n",
    "plt.show()"
   ]
  },
  {
   "cell_type": "code",
   "execution_count": null,
   "id": "b518a6bf",
   "metadata": {},
   "outputs": [],
   "source": []
  },
  {
   "cell_type": "code",
   "execution_count": null,
   "id": "0aaeed19",
   "metadata": {},
   "outputs": [],
   "source": []
  }
 ],
 "metadata": {
  "kernelspec": {
   "display_name": "Python 3 (ipykernel)",
   "language": "python",
   "name": "python3"
  },
  "language_info": {
   "codemirror_mode": {
    "name": "ipython",
    "version": 3
   },
   "file_extension": ".py",
   "mimetype": "text/x-python",
   "name": "python",
   "nbconvert_exporter": "python",
   "pygments_lexer": "ipython3",
   "version": "3.9.5"
  }
 },
 "nbformat": 4,
 "nbformat_minor": 5
}
